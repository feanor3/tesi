{
 "cells": [
  {
   "cell_type": "code",
   "execution_count": 1,
   "id": "79cd5012",
   "metadata": {},
   "outputs": [],
   "source": [
    "from sklearn.neural_network import MLPClassifier\n",
    "import numpy as np\n",
    "from numpy import random as rnd\n",
    "from matplotlib import pyplot as plt\n",
    "import classifier"
   ]
  },
  {
   "cell_type": "code",
   "execution_count": null,
   "id": "dd2daffe",
   "metadata": {},
   "outputs": [],
   "source": [
    "data = np.load(\"./dummy_data/10.npy\")\n",
    "t = np.load(\"./dummy_data/10_label.npy\")\n",
    "\n",
    "#data_train = data[:6000]\n",
    "'''train: model training\n",
    "validation: check fitness of model while training\n",
    "test: final testing with unseen data'''\n",
    "data_train = data[:3000]\n",
    "data_val = data[6000:8000]\n",
    "data_test = data[8000:]\n",
    "\n",
    "t_train = t[:3000]\n",
    "t_train = t[:3000]\n",
    "t_val = t[6000:8000]\n",
    "t_test = t[8000:]\n",
    "\n",
    "\n",
    "#cls = MLPClassifier(activation=\"logistic\")"
   ]
  },
  {
   "cell_type": "code",
   "execution_count": 51,
   "id": "30db7340",
   "metadata": {},
   "outputs": [
    {
     "data": {
      "text/plain": [
       "47"
      ]
     },
     "execution_count": 51,
     "metadata": {},
     "output_type": "execute_result"
    }
   ],
   "source": [
    "#cls.fit(data_test, t_test, X_val=data_val, t_val=t_val, lr=0.001)\n",
    "cls = classifier.MLPBinaryLinRegClass(dim_hidden=100, tolerance=1e-4 )\n",
    "cls.fit(data_train, t_train, X_val=data_val, t_val=t_val, lr=1e-4)\n",
    "cls.epochs\n"
   ]
  },
  {
   "cell_type": "code",
   "execution_count": 48,
   "id": "e3113951",
   "metadata": {},
   "outputs": [
    {
     "data": {
      "text/plain": [
       "[0.12769920542290097,\n",
       " 0.1259952942876438,\n",
       " 0.1258245323347773,\n",
       " 0.12574199241619216,\n",
       " 0.12567503492249524,\n",
       " 0.12561592755186318,\n",
       " 0.1255635131693692,\n",
       " 0.1255175349809804,\n",
       " 0.12547787010854175,\n",
       " 0.1254444188620519,\n",
       " 0.12541708841380628,\n",
       " 0.1253957902595339,\n",
       " 0.12538043970591572,\n",
       " 0.12537095566056577,\n",
       " 0.12536726047088276,\n",
       " 0.12536927977422505]"
      ]
     },
     "execution_count": 48,
     "metadata": {},
     "output_type": "execute_result"
    }
   ],
   "source": [
    "cls.train_loss"
   ]
  },
  {
   "cell_type": "code",
   "execution_count": 52,
   "id": "0ec691b8",
   "metadata": {},
   "outputs": [
    {
     "data": {
      "text/plain": [
       "(Text(0.5, 0, 'Epochs'), Text(0.5, 0, 'Epochs'))"
      ]
     },
     "execution_count": 52,
     "metadata": {},
     "output_type": "execute_result"
    },
    {
     "data": {
      "image/png": "[encoded data removed]",
      "text/plain": [
       "<Figure size 900x300 with 2 Axes>"
      ]
     },
     "metadata": {},
     "output_type": "display_data"
    }
   ],
   "source": [
    "cl=cls\n",
    "fig, (ax1, ax2) = plt.subplots(nrows=1,ncols=2, figsize=(9,3))\n",
    "E = len(cls.train_acc) \n",
    "ax1.plot(np.arange(E), cl.train_acc)\n",
    "ax1.plot(np.arange(E), cl.val_acc)\n",
    "ax1.legend([\"train_acc\", \"val_acc\"])\n",
    "ax2.legend([\"train_loss\", \"val_loss\"])\n",
    "ax2.plot(np.arange(E), cl.train_loss)\n",
    "ax2.plot(np.arange(E), cl.val_loss)\n",
    "ax2.set_ylabel(\"Loss\"), ax2.set_xlabel(\"Accuracy\")\n",
    "ax1.set_xlabel(\"Epochs\"), ax2.set_xlabel(\"Epochs\")"
   ]
  },
  {
   "cell_type": "code",
   "execution_count": 53,
   "id": "d5497f94",
   "metadata": {},
   "outputs": [
    {
     "data": {
      "text/plain": [
       "0.9461666666666667"
      ]
     },
     "execution_count": 53,
     "metadata": {},
     "output_type": "execute_result"
    }
   ],
   "source": [
    "cls.score(data_test, t_test)"
   ]
  },
  {
   "cell_type": "code",
   "execution_count": 23,
   "id": "18009080",
   "metadata": {},
   "outputs": [],
   "source": [
    "rng = rnd.default_rng()\n",
    "sample_size=100\n",
    "l=100\n",
    "z = np.zeros((sample_size,l))\n",
    "for i in range(sample_size):\n",
    "    lattice1 = np.ones(l)\n",
    "\n",
    "    # create indices to be modified to 0\n",
    "    indices = rng.integers(0,l, size=int(0.05*l))\n",
    "    lattice1[indices] = 0\n",
    "\n",
    "    lattice1 = lattice1.astype(int)\n",
    "    z[i]=lattice1"
   ]
  },
  {
   "cell_type": "code",
   "execution_count": 9,
   "id": "58aae093",
   "metadata": {},
   "outputs": [
    {
     "data": {
      "text/plain": [
       "array([1., 1., 1., 1., 1., 1., 1., 1., 1., 1., 1., 0., 1., 1., 1., 1., 1.,\n",
       "       1., 1., 1., 1., 1., 1., 1., 1., 1., 1., 0., 1., 1., 1., 1., 1., 1.,\n",
       "       1., 1., 1., 1., 1., 1., 1., 1., 1., 1., 1., 1., 1., 1., 1., 1., 1.,\n",
       "       1., 1., 1., 0., 1., 1., 1., 1., 1., 1., 1., 1., 1., 1., 1., 1., 1.,\n",
       "       1., 1., 1., 1., 1., 1., 1., 1., 1., 1., 1., 1., 1., 1., 1., 1., 1.,\n",
       "       0., 1., 1., 1., 1., 1., 1., 1., 0., 1., 1., 1., 1., 1., 1.])"
      ]
     },
     "execution_count": 9,
     "metadata": {},
     "output_type": "execute_result"
    }
   ],
   "source": [
    "z[1]"
   ]
  },
  {
   "cell_type": "code",
   "execution_count": 24,
   "id": "09f30285",
   "metadata": {},
   "outputs": [
    {
     "data": {
      "text/plain": [
       "array([ True,  True,  True,  True,  True,  True,  True,  True,  True,\n",
       "        True,  True,  True,  True,  True,  True,  True,  True,  True,\n",
       "        True,  True,  True,  True,  True,  True,  True,  True,  True,\n",
       "        True,  True,  True,  True,  True,  True,  True,  True,  True,\n",
       "        True,  True,  True,  True,  True,  True,  True,  True,  True,\n",
       "        True,  True,  True,  True,  True,  True,  True,  True,  True,\n",
       "        True,  True,  True,  True,  True,  True,  True,  True,  True,\n",
       "        True,  True,  True,  True,  True,  True,  True,  True,  True,\n",
       "        True,  True,  True,  True,  True,  True,  True,  True,  True,\n",
       "        True,  True,  True,  True,  True,  True,  True,  True,  True,\n",
       "        True,  True,  True,  True,  True,  True,  True,  True,  True,\n",
       "        True])"
      ]
     },
     "execution_count": 24,
     "metadata": {},
     "output_type": "execute_result"
    }
   ],
   "source": [
    "cls.predict(rng.integers(0,2, size=(100,100)))"
   ]
  }
 ],
 "metadata": {
  "kernelspec": {
   "display_name": "Python 3 (ipykernel)",
   "language": "python",
   "name": "python3"
  },
  "language_info": {
   "codemirror_mode": {
    "name": "ipython",
    "version": 3
   },
   "file_extension": ".py",
   "mimetype": "text/x-python",
   "name": "python",
   "nbconvert_exporter": "python",
   "pygments_lexer": "ipython3",
   "version": "3.8.2"
  }
 },
 "nbformat": 4,
 "nbformat_minor": 5
}
