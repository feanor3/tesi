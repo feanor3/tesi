{
 "cells": [
  {
   "cell_type": "code",
   "execution_count": 5,
   "id": "ce5f4d46",
   "metadata": {},
   "outputs": [],
   "source": [
    "from numpy import random as rnd\n",
    "import numpy as np"
   ]
  },
  {
   "cell_type": "code",
   "execution_count": 6,
   "id": "256eacae",
   "metadata": {},
   "outputs": [],
   "source": [
    "rng = rnd.default_rng()\n"
   ]
  },
  {
   "cell_type": "code",
   "execution_count": 23,
   "id": "b4d2fdb2",
   "metadata": {},
   "outputs": [],
   "source": [
    "a = np.load(\"./aa.npy\")"
   ]
  },
  {
   "cell_type": "code",
   "execution_count": 29,
   "id": "4c426d09",
   "metadata": {},
   "outputs": [
    {
     "data": {
      "text/plain": [
       "(10, 20, 20)"
      ]
     },
     "execution_count": 29,
     "metadata": {},
     "output_type": "execute_result"
    }
   ],
   "source": [
    "a.shape"
   ]
  },
  {
   "cell_type": "code",
   "execution_count": 7,
   "id": "84ce9342",
   "metadata": {},
   "outputs": [],
   "source": [
    "b=rng.integers(0,2,size=(3,10))"
   ]
  },
  {
   "cell_type": "code",
   "execution_count": 11,
   "id": "10ab43d1",
   "metadata": {},
   "outputs": [
    {
     "data": {
      "text/plain": [
       "array([[1, 1, 1, 1, 1, 1, 0, 0, 1, 1],\n",
       "       [1, 0, 0, 0, 1, 1, 1, 0, 1, 1],\n",
       "       [0, 0, 0, 1, 1, 0, 1, 1, 0, 0]])"
      ]
     },
     "execution_count": 11,
     "metadata": {},
     "output_type": "execute_result"
    }
   ],
   "source": [
    "b"
   ]
  },
  {
   "cell_type": "code",
   "execution_count": 62,
   "id": "67a693eb",
   "metadata": {},
   "outputs": [],
   "source": [
    "a = np.zeros(5)"
   ]
  },
  {
   "cell_type": "code",
   "execution_count": 53,
   "id": "230fad78",
   "metadata": {},
   "outputs": [],
   "source": [
    "a[[0,4]] = 1"
   ]
  },
  {
   "cell_type": "code",
   "execution_count": 67,
   "id": "be32d20e",
   "metadata": {},
   "outputs": [],
   "source": [
    "a =a.astype(int)"
   ]
  },
  {
   "cell_type": "code",
   "execution_count": 68,
   "id": "61cb2a3c",
   "metadata": {},
   "outputs": [
    {
     "data": {
      "text/plain": [
       "array([0, 0, 0, 0, 0])"
      ]
     },
     "execution_count": 68,
     "metadata": {},
     "output_type": "execute_result"
    }
   ],
   "source": [
    "a"
   ]
  },
  {
   "cell_type": "code",
   "execution_count": 59,
   "id": "a76f8547",
   "metadata": {},
   "outputs": [],
   "source": [
    "length = 10\n",
    "z=[]\n",
    "for i in range(1):\n",
    "    l = length*length\n",
    "    lattice = np.ones(l)\n",
    "\n",
    "    # create indices to be modified to 0\n",
    "    indices = rng.integers(0,l, size=int(0.05*l))\n",
    "    lattice[indices] = 0\n",
    "\n",
    "    z.append(lattice)\n",
    "\n",
    "# create square lattice of 01 of size=length\n",
    "\n",
    "\n",
    "np.save(f\"./dummy_data/{length}_lowT\", z)"
   ]
  },
  {
   "cell_type": "code",
   "execution_count": 69,
   "id": "c14261eb",
   "metadata": {},
   "outputs": [
    {
     "data": {
      "text/plain": [
       "array([1., 1., 1., 1., 1., 1., 1., 1., 1., 1., 1., 0., 1., 1., 0., 1., 1.,\n",
       "       1., 1., 1., 1., 1., 1., 1., 1., 1., 1., 1., 1., 1., 1., 1., 1., 1.,\n",
       "       1., 1., 1., 1., 1., 1., 1., 1., 1., 1., 1., 1., 0., 1., 1., 0., 1.,\n",
       "       1., 0., 1., 1., 1., 1., 1., 1., 1., 1., 1., 1., 1., 1., 1., 1., 1.,\n",
       "       1., 1., 1., 1., 1., 1., 1., 1., 1., 1., 1., 1., 1., 1., 1., 1., 1.,\n",
       "       1., 1., 1., 1., 1., 1., 1., 1., 1., 1., 1., 1., 1., 1., 1.])"
      ]
     },
     "execution_count": 69,
     "metadata": {},
     "output_type": "execute_result"
    }
   ],
   "source": [
    "lattice"
   ]
  }
 ],
 "metadata": {
  "kernelspec": {
   "display_name": "Python . (XPython Raw)",
   "language": "python",
   "name": "xpython-raw"
  },
  "language_info": {
   "file_extension": ".py",
   "mimetype": "text/x-python",
   "name": "python",
   "version": "3.13.2"
  }
 },
 "nbformat": 4,
 "nbformat_minor": 5
}
