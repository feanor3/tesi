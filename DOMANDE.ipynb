{
 "cells": [
  {
   "cell_type": "markdown",
   "id": "51aebf73",
   "metadata": {},
   "source": [
    "# TODO\n",
    "* validation test, devtest set\n"
   ]
  },
  {
   "cell_type": "markdown",
   "id": "2f036433",
   "metadata": {},
   "source": [
    "* media dei numeri a caso è 0.5 non dovrebbe essere 0? solved: è media tra 0 e 1\n",
    "* cosa ho? 100 features per il 10*10?\n",
    "* merging dei dati\n",
    "* overfitting???\n",
    "* should i check for validation accuracy variation?\n"
   ]
  }
 ],
 "metadata": {
  "language_info": {
   "name": "python"
  }
 },
 "nbformat": 4,
 "nbformat_minor": 5
}
