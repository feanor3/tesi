{
 "cells": [
  {
   "cell_type": "code",
   "execution_count": 1,
   "id": "9a444c12",
   "metadata": {},
   "outputs": [],
   "source": [
    "import numpy as np\n",
    "from matplotlib import pyplot as plt\n",
    "from sklearn.neural_network import MLPClassifier\n",
    "from classifier import MLPBinary\n",
    "import utils"
   ]
  },
  {
   "cell_type": "code",
   "execution_count": 3,
   "id": "fe6da9ee",
   "metadata": {},
   "outputs": [
    {
     "ename": "AttributeError",
     "evalue": "'numpy.ndarray' object has no attribute 'iloc'",
     "output_type": "error",
     "traceback": [
      "\u001b[1;31m---------------------------------------------------------------------------\u001b[0m",
      "\u001b[1;31mAttributeError\u001b[0m                            Traceback (most recent call last)",
      "Cell \u001b[1;32mIn[3], line 1\u001b[0m\n\u001b[1;32m----> 1\u001b[0m utils\u001b[38;5;241m.\u001b[39mresize_data_test(\u001b[38;5;241m20\u001b[39m, \u001b[38;5;241m1\u001b[39m, \u001b[38;5;241m3.4\u001b[39m)\n",
      "File \u001b[1;32md:\\MATTIA\\tesi\\utils.py:60\u001b[0m, in \u001b[0;36mresize_data_test\u001b[1;34m(L, lt, ut)\u001b[0m\n\u001b[0;32m     58\u001b[0m \u001b[38;5;66;03m# n*L rows, step=L every L row a new configuration starts\u001b[39;00m\n\u001b[0;32m     59\u001b[0m \u001b[38;5;28;01mfor\u001b[39;00m i \u001b[38;5;129;01min\u001b[39;00m \u001b[38;5;28mrange\u001b[39m(\u001b[38;5;241m0\u001b[39m,n\u001b[38;5;241m*\u001b[39mL, L):\n\u001b[1;32m---> 60\u001b[0m     z \u001b[38;5;241m=\u001b[39m w\u001b[38;5;241m.\u001b[39miloc[i:i\u001b[38;5;241m+\u001b[39mL]\u001b[38;5;241m.\u001b[39mto_numpy()\n\u001b[0;32m     61\u001b[0m     data[j, k, :] \u001b[38;5;241m=\u001b[39m z\u001b[38;5;241m.\u001b[39mflatten()\n\u001b[0;32m     62\u001b[0m     temp[j, k] \u001b[38;5;241m=\u001b[39m y[i]\n",
      "\u001b[1;31mAttributeError\u001b[0m: 'numpy.ndarray' object has no attribute 'iloc'"
     ]
    }
   ],
   "source": [
    "utils.resize_data_test(20, 1, 3.4)"
   ]
  },
  {
   "cell_type": "code",
   "execution_count": 3,
   "id": "d78bb772",
   "metadata": {},
   "outputs": [],
   "source": [
    "# resizing of the data created with monte carlo\n",
    "T_CRIT = 2.2691853 # k_b * T_C / J  with k_b=1, J = interaction constant\n",
    "\n",
    "lt, ut, t_step = 0.7, 3.2, 0.003\n",
    "\n",
    "for L in [10, 15, 20]:\n",
    "    utils.resize_data(L, lt, ut, t_step)"
   ]
  },
  {
   "cell_type": "code",
   "execution_count": null,
   "id": "4c9869ae",
   "metadata": {},
   "outputs": [],
   "source": [
    "def analysis(L, dim_hidden=30, lr=1e-4, tol=1e-5):\n",
    "\n",
    "    lt, ut, t_step = 0.7, 3.2, 0.003\n",
    "    n = int((ut-lt) / t_step) # number of datapoints\n",
    "\n",
    "    data = np.load(f\"data/{L}.npy\")\n",
    "    temps = np.load(f\"data/{L}_temp.npy\")\n",
    "\n",
    "    # target value\n",
    "    t = (temps > T_CRIT).astype(int)\n",
    "\n",
    "    # DATA Shuffling\n",
    "    rng = np.random.default_rng()\n",
    "    indices = np.arange(data.shape[0])\n",
    "    rng.shuffle(indices)\n",
    "\n",
    "    data = data[indices]\n",
    "    t = t[indices]\n",
    "    temps = temps[indices]\n",
    "\n",
    "    # splitting data in 60% training, 30% validation, 10% test\n",
    "    a, b = int(0.7*n), int(0.9*n)\n",
    "    data_train = data[:a]\n",
    "    data_val = data[a:b]\n",
    "    data_test = data[b:]\n",
    "\n",
    "    t_train = t[:a]\n",
    "    t_val = t[a:b]\n",
    "    t_test = t[b:]\n",
    "\n",
    "    # CLASSIFIER TRAINING\n",
    "    #clf = MLPBinary(dim_hidden=dim_hidden, tolerance=tol)\n",
    "    #clf.fit(data_train, t_train, X_val=data_val, t_val=t_val ,lr=lr)\n",
    "\n",
    "    # using skleanr\n",
    "    clf = MLPClassifier()\n",
    "    clf.fit(data_train, t_train)\n",
    "\n",
    "    # plotting accuracy and loss\n",
    "    fig, (ax1, ax2) = plt.subplots(nrows=1,ncols=2, figsize=(9,3))\n",
    "    E = len(clf.train_acc) \n",
    "    ax1.plot(np.arange(E), clf.train_acc)\n",
    "    ax1.plot(np.arange(E), clf.val_acc)\n",
    "    ax1.legend([\"train_acc\", \"val_acc\"])\n",
    "\n",
    "    E = len(clf.loss) \n",
    "    ax1.plot(np.arange(E), clf.loss)\n",
    "    ax1.plot(np.arange(E), clf.val_acc)\n",
    "    ax1.legend([\"train_acc\", \"val_acc\"])\n",
    "\n",
    "    ax2.plot(np.arange(E), clf.train_loss)\n",
    "    ax2.plot(np.arange(E), clf.val_loss)\n",
    "    ax2.set_ylabel(\"Loss\"), ax2.set_xlabel(\"Accuracy\")\n",
    "    ax1.set_xlabel(\"Epochs\"), ax2.set_xlabel(\"Epochs\")\n",
    "    ax2.legend([\"train_loss\", \"val_loss\"])\n",
    "\n",
    "    return clf, data_test, t_test, temps\n"
   ]
  },
  {
   "cell_type": "code",
   "execution_count": 5,
   "id": "9f8ba2b8",
   "metadata": {},
   "outputs": [],
   "source": [
    "L=20\n",
    "data = np.load(f\"data/{L}.npy\")\n",
    "temps = np.load(f\"data/{L}_temp.npy\")\n",
    "t = (temps < T_CRIT).astype(int)"
   ]
  },
  {
   "cell_type": "code",
   "execution_count": 115,
   "id": "3b47e094",
   "metadata": {},
   "outputs": [
    {
     "data": {
      "text/plain": [
       "0.37214885954381755"
      ]
     },
     "execution_count": 115,
     "metadata": {},
     "output_type": "execute_result"
    }
   ],
   "source": [
    "310/833\n"
   ]
  },
  {
   "cell_type": "code",
   "execution_count": 9,
   "id": "bda74836",
   "metadata": {},
   "outputs": [
    {
     "data": {
      "text/plain": [
       "1250.0"
      ]
     },
     "execution_count": 9,
     "metadata": {},
     "output_type": "execute_result"
    }
   ],
   "source": [
    "(3.2-0.7)/0.002"
   ]
  },
  {
   "cell_type": "code",
   "execution_count": 12,
   "id": "7a2ab1ca",
   "metadata": {},
   "outputs": [
    {
     "ename": "TypeError",
     "evalue": "object of type 'NoneType' has no len()",
     "output_type": "error",
     "traceback": [
      "\u001b[1;31m---------------------------------------------------------------------------\u001b[0m",
      "\u001b[1;31mTypeError\u001b[0m                                 Traceback (most recent call last)",
      "Cell \u001b[1;32mIn[12], line 48\u001b[0m\n\u001b[0;32m     44\u001b[0m ax1\u001b[38;5;241m.\u001b[39mplot(np\u001b[38;5;241m.\u001b[39marange(E), clf\u001b[38;5;241m.\u001b[39mloss_curve_)\n\u001b[0;32m     46\u001b[0m ax1\u001b[38;5;241m.\u001b[39mlegend([\u001b[38;5;124m\"\u001b[39m\u001b[38;5;124mtrain_acc\u001b[39m\u001b[38;5;124m\"\u001b[39m, \u001b[38;5;124m\"\u001b[39m\u001b[38;5;124mval_acc\u001b[39m\u001b[38;5;124m\"\u001b[39m])\n\u001b[1;32m---> 48\u001b[0m ax2\u001b[38;5;241m.\u001b[39mplot(np\u001b[38;5;241m.\u001b[39marange(\u001b[38;5;28mlen\u001b[39m(clf\u001b[38;5;241m.\u001b[39mvalidation_scores_)), clf\u001b[38;5;241m.\u001b[39mvalidation_scores_)\n\u001b[0;32m     50\u001b[0m ax2\u001b[38;5;241m.\u001b[39mset_ylabel(\u001b[38;5;124m\"\u001b[39m\u001b[38;5;124mLoss\u001b[39m\u001b[38;5;124m\"\u001b[39m), ax2\u001b[38;5;241m.\u001b[39mset_xlabel(\u001b[38;5;124m\"\u001b[39m\u001b[38;5;124mAccuracy\u001b[39m\u001b[38;5;124m\"\u001b[39m)\n\u001b[0;32m     51\u001b[0m ax1\u001b[38;5;241m.\u001b[39mset_xlabel(\u001b[38;5;124m\"\u001b[39m\u001b[38;5;124mEpochs\u001b[39m\u001b[38;5;124m\"\u001b[39m), ax2\u001b[38;5;241m.\u001b[39mset_xlabel(\u001b[38;5;124m\"\u001b[39m\u001b[38;5;124mEpochs\u001b[39m\u001b[38;5;124m\"\u001b[39m)\n",
      "\u001b[1;31mTypeError\u001b[0m: object of type 'NoneType' has no len()"
     ]
    },
    {
     "data": {
      "image/png": "[encoded data removed]",
      "text/plain": [
       "<Figure size 900x300 with 2 Axes>"
      ]
     },
     "metadata": {},
     "output_type": "display_data"
    }
   ],
   "source": [
    "\n",
    "lt, ut, t_step = 0.7, 3.2, 0.002\n",
    " # number of datapoints\n",
    "T_CRIT = 2.2691853 # k_b * T_C / J  with k_b=1, J = interaction constant\n",
    "\n",
    "data = np.load(f\"data/{L}.npy\")\n",
    "temps = np.load(f\"data/{L}_temp.npy\")\n",
    "n = data.shape[0]\n",
    "\n",
    "# target value\n",
    "t = (temps < T_CRIT).astype(int)\n",
    "\n",
    "# DATA Shuffling\n",
    "rng = np.random.default_rng()\n",
    "indices = np.arange(data.shape[0])\n",
    "rng.shuffle(indices)\n",
    "\n",
    "data = data[indices]\n",
    "t = t[indices]\n",
    "temps = temps[indices]\n",
    "\n",
    "# splitting data in 60% training, 30% validation, 10% test\n",
    "a, b = int(0.7*n), int(0.9*n)\n",
    "data_train = data[:a]\n",
    "data_val = data[a:b]\n",
    "data_test = data[b:]\n",
    "\n",
    "t_train = t[:a]\n",
    "t_val = t[a:b]\n",
    "t_test = t[b:]\n",
    "\n",
    "# CLASSIFIER TRAINING\n",
    "#clf = MLPBinary(dim_hidden=dim_hidden, tolerance=tol)\n",
    "#clf.fit(data_train, t_train, X_val=data_val, t_val=t_val ,lr=lr)\n",
    "\n",
    "# using skleanr\n",
    "clf = MLPClassifier()\n",
    "clf.fit(data_train, t_train)\n",
    "\n",
    "# plotting accuracy and loss\n",
    "fig, (ax1, ax2) = plt.subplots(nrows=1,ncols=2, figsize=(9,3))\n",
    "\n",
    "\n",
    "E = len(clf.loss_curve_) \n",
    "ax1.plot(np.arange(E), clf.loss_curve_)\n",
    "\n",
    "ax1.legend([\"train_acc\", \"val_acc\"])\n",
    "\n",
    "ax2.plot(np.arange(len(clf.validation_scores_)), clf.validation_scores_)\n",
    "\n",
    "ax2.set_ylabel(\"Loss\"), ax2.set_xlabel(\"Accuracy\")\n",
    "ax1.set_xlabel(\"Epochs\"), ax2.set_xlabel(\"Epochs\")\n",
    "ax2.legend([\"train_loss\", \"val_loss\"])\n"
   ]
  },
  {
   "cell_type": "code",
   "execution_count": 10,
   "id": "c802206a",
   "metadata": {},
   "outputs": [
    {
     "data": {
      "text/plain": [
       "0.96"
      ]
     },
     "execution_count": 10,
     "metadata": {},
     "output_type": "execute_result"
    }
   ],
   "source": [
    "clf.score(data_test, t_test)"
   ]
  },
  {
   "cell_type": "code",
   "execution_count": null,
   "id": "af5af323",
   "metadata": {},
   "outputs": [
    {
     "data": {
      "text/plain": [
       "(875, 400)"
      ]
     },
     "execution_count": 8,
     "metadata": {},
     "output_type": "execute_result"
    }
   ],
   "source": [
    "data.shape"
   ]
  },
  {
   "cell_type": "code",
   "execution_count": 4,
   "id": "4bed690c",
   "metadata": {},
   "outputs": [
    {
     "data": {
      "text/plain": [
       "1"
      ]
     },
     "execution_count": 4,
     "metadata": {},
     "output_type": "execute_result"
    },
    {
     "data": {
      "image/png": "[encoded data removed]",
      "text/plain": [
       "<Figure size 640x480 with 1 Axes>"
      ]
     },
     "metadata": {},
     "output_type": "display_data"
    }
   ],
   "source": [
    "i = 1700\n",
    "plt.imshow(data[i].reshape(10,10), cmap='grey') # 1 white, -1 black\n",
    "t[i]"
   ]
  },
  {
   "cell_type": "code",
   "execution_count": 54,
   "id": "c0bff643",
   "metadata": {},
   "outputs": [
    {
     "name": "stderr",
     "output_type": "stream",
     "text": [
      "c:\\Users\\CrisMattGiov\\miniconda3\\envs\\in3050\\Lib\\site-packages\\sklearn\\neural_network\\_multilayer_perceptron.py:690: ConvergenceWarning: Stochastic Optimizer: Maximum iterations (200) reached and the optimization hasn't converged yet.\n",
      "  warnings.warn(\n"
     ]
    },
    {
     "ename": "AttributeError",
     "evalue": "'MLPClassifier' object has no attribute 'train_acc'",
     "output_type": "error",
     "traceback": [
      "\u001b[1;31m---------------------------------------------------------------------------\u001b[0m",
      "\u001b[1;31mAttributeError\u001b[0m                            Traceback (most recent call last)",
      "Cell \u001b[1;32mIn[54], line 1\u001b[0m\n\u001b[1;32m----> 1\u001b[0m clf, data_test, t_test, temps \u001b[38;5;241m=\u001b[39m analysis(\u001b[38;5;241m10\u001b[39m, dim_hidden\u001b[38;5;241m=\u001b[39m\u001b[38;5;241m20\u001b[39m, lr\u001b[38;5;241m=\u001b[39m\u001b[38;5;241m1e-5\u001b[39m, tol\u001b[38;5;241m=\u001b[39m\u001b[38;5;241m1e-5\u001b[39m)\n",
      "Cell \u001b[1;32mIn[53], line 42\u001b[0m, in \u001b[0;36manalysis\u001b[1;34m(L, dim_hidden, lr, tol)\u001b[0m\n\u001b[0;32m     40\u001b[0m \u001b[38;5;66;03m# plotting accuracy and loss\u001b[39;00m\n\u001b[0;32m     41\u001b[0m fig, (ax1, ax2) \u001b[38;5;241m=\u001b[39m plt\u001b[38;5;241m.\u001b[39msubplots(nrows\u001b[38;5;241m=\u001b[39m\u001b[38;5;241m1\u001b[39m,ncols\u001b[38;5;241m=\u001b[39m\u001b[38;5;241m2\u001b[39m, figsize\u001b[38;5;241m=\u001b[39m(\u001b[38;5;241m9\u001b[39m,\u001b[38;5;241m3\u001b[39m))\n\u001b[1;32m---> 42\u001b[0m E \u001b[38;5;241m=\u001b[39m \u001b[38;5;28mlen\u001b[39m(clf\u001b[38;5;241m.\u001b[39mtrain_acc) \n\u001b[0;32m     43\u001b[0m ax1\u001b[38;5;241m.\u001b[39mplot(np\u001b[38;5;241m.\u001b[39marange(E), clf\u001b[38;5;241m.\u001b[39mtrain_acc)\n\u001b[0;32m     44\u001b[0m ax1\u001b[38;5;241m.\u001b[39mplot(np\u001b[38;5;241m.\u001b[39marange(E), clf\u001b[38;5;241m.\u001b[39mval_acc)\n",
      "\u001b[1;31mAttributeError\u001b[0m: 'MLPClassifier' object has no attribute 'train_acc'"
     ]
    },
    {
     "data": {
      "image/png": "[encoded data removed]",
      "text/plain": [
       "<Figure size 900x300 with 2 Axes>"
      ]
     },
     "metadata": {},
     "output_type": "display_data"
    }
   ],
   "source": [
    "clf, data_test, t_test, temps = analysis(10, dim_hidden=20, lr=1e-5, tol=1e-5)\n",
    "\n"
   ]
  },
  {
   "cell_type": "code",
   "execution_count": 7,
   "id": "3f6f2231",
   "metadata": {},
   "outputs": [
    {
     "data": {
      "text/plain": [
       "(1594, 225)"
      ]
     },
     "execution_count": 7,
     "metadata": {},
     "output_type": "execute_result"
    }
   ],
   "source": [
    "data_test.shape"
   ]
  },
  {
   "cell_type": "code",
   "execution_count": 13,
   "id": "7c7d0e34",
   "metadata": {},
   "outputs": [
    {
     "data": {
      "text/plain": [
       "<matplotlib.collections.LineCollection at 0x26f6ac544d0>"
      ]
     },
     "execution_count": 13,
     "metadata": {},
     "output_type": "execute_result"
    },
    {
     "data": {
      "image/png": "[encoded data removed]",
      "text/plain": [
       "<Figure size 640x480 with 1 Axes>"
      ]
     },
     "metadata": {},
     "output_type": "display_data"
    }
   ],
   "source": [
    "out = clf.predict_proba(data_test)\n",
    "plt.scatter(temps[b:], out[:,1], marker='x', c=clf.predict(data_test) )\n",
    "plt.vlines(T_CRIT, 0, 1)"
   ]
  }
 ],
 "metadata": {
  "kernelspec": {
   "display_name": "in3050",
   "language": "python",
   "name": "python3"
  },
  "language_info": {
   "codemirror_mode": {
    "name": "ipython",
    "version": 3
   },
   "file_extension": ".py",
   "mimetype": "text/x-python",
   "name": "python",
   "nbconvert_exporter": "python",
   "pygments_lexer": "ipython3",
   "version": "3.12.8"
  }
 },
 "nbformat": 4,
 "nbformat_minor": 5
}
