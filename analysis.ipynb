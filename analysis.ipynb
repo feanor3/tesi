{
 "cells": [
  {
   "cell_type": "markdown",
   "id": "82c60b48",
   "metadata": {},
   "source": [
    "First anlysis on all data, with normal classifier"
   ]
  },
  {
   "cell_type": "code",
   "execution_count": null,
   "id": "9a444c12",
   "metadata": {},
   "outputs": [],
   "source": [
    "import numpy as np\n",
    "from matplotlib import pyplot as plt\n",
    "from sklearn.neural_network import MLPClassifier\n",
    "from classifier import MLPBinary\n",
    "import utils\n",
    "\n",
    "L = 10\n",
    "T_CRIT = 2.2691853"
   ]
  },
  {
   "cell_type": "code",
   "execution_count": null,
   "id": "d78bb772",
   "metadata": {},
   "outputs": [],
   "source": [
    "# resizing of the data created with monte carlo\n",
    "\n",
    "lt, ut, t_step = 1.0, 3.2, 0.003\n",
    "\n",
    "#for L in [10, 15, 20]:\n",
    " #   utils.resize_data(L, lt, ut)\n",
    "    \n",
    "utils.resize_data_test(10)"
   ]
  },
  {
   "cell_type": "code",
   "execution_count": null,
   "id": "973a5e0e",
   "metadata": {},
   "outputs": [],
   "source": [
    "# NORMAL CLASSIFIER, TRAINED ON ALL DATA\n",
    "# trained from T=1 to 10\n",
    "# accuracy migliorata con i dati a 95\n",
    "clf = utils.train_classifier(10, 'all', MLPBinary(dim_hidden=100, tolerance=1e-4, activation='relu', lr=0.01, batch_size=200, momentum=0.9, solver='sgd', alpha=0.1, power_t=0.5, n_epochs_no_update=5))"
   ]
  },
  {
   "cell_type": "code",
   "execution_count": null,
   "id": "7759bc67",
   "metadata": {},
   "outputs": [],
   "source": [
    "b = clf.weights2.flatten()\n",
    "b @ b.T"
   ]
  },
  {
   "cell_type": "code",
   "execution_count": null,
   "id": "0da7b258",
   "metadata": {},
   "outputs": [],
   "source": [
    "data_test.shape"
   ]
  },
  {
   "cell_type": "code",
   "execution_count": null,
   "id": "eb5112ff",
   "metadata": {},
   "outputs": [],
   "source": [
    "# accuracy on test data, close and far from T_C \n",
    "# loading data for testing\n",
    "data_test = np.load(f\"./data/{L}_test.npy\").reshape(-1, L*L)\n",
    "temp_test = np.load(f\"./data/{L}_test_temp.npy\").reshape(-1,)\n",
    "\n",
    "t_test = (temp_test > T_CRIT).astype(int)\n",
    "\n",
    "min_bound = 2.2\n",
    "max_bound = 2.3\n",
    "\n",
    "mask = (temp_test > max_bound) | (temp_test < min_bound)   \n",
    "\n",
    "print(f\"All Data : {clf.score(data_test, t_test)}\")\n",
    "print(f\"Data with T < {min_bound} or T > {max_bound} : {clf.score(data_test[mask], t_test[mask])}\")\n",
    "print(f\"Data with {min_bound} < T < {max_bound}: {clf.score(data_test[~mask], t_test[~mask])}\")\n",
    "\n",
    "# ACCURACY AS FUNCTION OF TEMPERATURE\n",
    "\n",
    "data_test = np.load(f\"./data/{L}_test.npy\").reshape(10, 24, L*L)\n",
    "temp_test = np.load(f\"./data/{L}_test_temp.npy\").reshape(10, 24)\n",
    "\n",
    "index = np.argsort(temp_test, axis=1)\n",
    "temp_test = np.sort(temp_test, axis=1)\n",
    "index_expanded = index[..., np.newaxis]\n",
    "data_test = np.take_along_axis(data_test, index_expanded, axis=1)\n",
    "\n",
    "data_per_temperature = np.array([data_test[:, i, :] for i in range(24)])\n",
    "temp_test = np.array([temp_test[:, i] for i in range(24)])\n",
    "t_test = (temp_test > T_CRIT).astype(int).reshape(24,10)\n",
    "\n",
    "acc  = [clf.score(data_per_temperature[i, :, :], t_test[i, :]) for i in range(24)]\n",
    "mean_M = np.mean(abs(np.mean(data_per_temperature[:,:, :], axis=2)), axis=1)\n",
    "err_M = np.std(abs(np.mean(data_per_temperature[:,:, :], axis=2)), axis = 1, ddof=1) / np.sqrt(10)\n",
    "temp = np.arange(1, 3.4, 0.1)\n",
    "plt.figure(figsize=(4,5))\n",
    "plt.scatter(temp, acc)\n",
    "plt.errorbar(temp, mean_M, err_M, color= 'r')\n",
    "plt.legend(['acc', 'mean_M'])\n",
    "plt.show()\n",
    "plt"
   ]
  },
  {
   "cell_type": "markdown",
   "id": "bcbd2a51",
   "metadata": {},
   "source": [
    "## training with different ratio of M>0 data in respect to M<0"
   ]
  },
  {
   "cell_type": "code",
   "execution_count": null,
   "id": "981589ae",
   "metadata": {},
   "outputs": [],
   "source": [
    "# questo per il training\n",
    "data = np.load(f\"data/{L}_test_tanti.npy\").reshape(-1, 100)\n",
    "temp = np.load(f\"data/{L}_temp_tanti.npy\").reshape(-1,)\n",
    "n = data.shape[0]\n",
    "# target value\n",
    "t = (temp > T_CRIT).astype(int)\n",
    "\n",
    "mask = ((temp < T_CRIT) & (np.sum(data, axis=1) > 0)) # mask for positive M and t < T_crit\n",
    "data_M_pos = data[mask]\n",
    "t_M_pos = t[mask]\n",
    "\n",
    "mask = ((temp < T_CRIT) & (np.sum(data, axis=1) < 0)) # mask for negative M and t < T_crit\n",
    "data_M_neg = data[mask]\n",
    "t_M_neg = t[mask]\n",
    "\n",
    "data_M_null = data[temp > T_CRIT]\n",
    "t_M_null = t[temp > T_CRIT]\n",
    "\n",
    "# dati di test separati per magnetizzazione | devo anche prendere le temperature ordinate correttamente -> che so la label\n",
    "# al momento solo su un set di temperature\n",
    "data_test = np.load(f\"./data/{L}_test.npy\").reshape(10, 24, L*L)\n",
    "temp_test = np.load(f\"./data/{L}_test_temp.npy\").reshape(10, 24)\n",
    "\n",
    "index = np.argsort(temp_test, axis=1)\n",
    "temp_test = np.sort(temp_test, axis=1)\n",
    "index_expanded = index[..., np.newaxis]\n",
    "data_test = np.take_along_axis(data_test, index_expanded, axis=1)\n",
    "\n",
    "slices = np.array([data_test[:, i, :] for i in range(24)])\n",
    "temp_test = np.array([temp_test[:, i] for i in range(24)])\n",
    "\n",
    "mask = (temp_test > T_CRIT).astype(int)\n",
    "data_test_M_null = slices[13:, :]\n",
    "temp_test_M_null = temp_test[13:,0]\n",
    "t_test_M_null = np.ones(11)\n",
    "\n",
    "data_bassi = slices[:13,:]\n",
    "\n",
    "mask = (np.sum(data_bassi, axis=2) > 0)\n",
    "data_test_M_pos = [data_bassi[i][mask[i]] for i in range(data_bassi.shape[0])]\n",
    "temp_test_M_pos = temp_test[:13,0]\n",
    "t_test_M_pos = np.zeros(13)\n",
    "\n",
    "mask = (np.sum(data_bassi, axis=2) < 0)\n",
    "data_test_M_neg = [data_bassi[i][mask[i]] for i in range(data_bassi.shape[0])]\n",
    "temp_test_M_neg = temp_test[:13,0]\n",
    "t_test_M_neg = np.zeros(13)"
   ]
  },
  {
   "cell_type": "code",
   "execution_count": null,
   "id": "8f3975fd",
   "metadata": {},
   "outputs": [],
   "source": [
    "print(clf.score(data_M_null, t_M_null))\n",
    "print(clf.score(data_M_pos, t_M_pos))\n",
    "print(clf.score(data_M_neg, t_M_neg))"
   ]
  },
  {
   "cell_type": "code",
   "execution_count": null,
   "id": "4bf368b6",
   "metadata": {},
   "outputs": [],
   "source": [
    "# PREDICTION ON DATA SET to have mean\n",
    "flattened = data_test.reshape(-1, L*L)\n",
    "y = clf.predict_probabilities(flattened).reshape(10, 24, 1)\n",
    "errors = y[:,:,0].std(axis=0) / np.sqrt(10)\n",
    "plt.errorbar(temp_test[3], y[:,:,0].mean(axis=0), errors, fmt='s--g')\n",
    "plt.grid(True)\n"
   ]
  },
  {
   "cell_type": "markdown",
   "id": "1975cea9",
   "metadata": {},
   "source": [
    "## Accuracy vs layer size"
   ]
  },
  {
   "cell_type": "code",
   "execution_count": null,
   "id": "93e49837",
   "metadata": {},
   "outputs": [],
   "source": [
    "import pandas as pd\n",
    "df = pd.read_csv(\"accuracy - dimensions.csv\")\n",
    "x = df['dim_hidden']\n",
    "y = df['acc mean']\n",
    "err = df['acc std']\n",
    "\n",
    "plt.errorbar(x, y, err, marker='x')\n",
    "plt.grid(True)\n"
   ]
  },
  {
   "cell_type": "markdown",
   "id": "6cccec4e",
   "metadata": {},
   "source": [
    "## SKLEARN"
   ]
  },
  {
   "cell_type": "code",
   "execution_count": null,
   "id": "7a2ab1ca",
   "metadata": {},
   "outputs": [],
   "source": [
    "# training with sklearn\n",
    "\n",
    "# using skleanr\n",
    "clf = MLPClassifier(activation='relu', solver='sgd',alpha=0, momentum=0.9, nesterovs_momentum=False,  verbose=False)\n",
    "clf.fit(data_train, t_train)\n",
    "\n",
    "# plotting accuracy and loss\n",
    "fig, (ax1, ax2) = plt.subplots(nrows=1,ncols=2, figsize=(9,3))\n",
    "\n",
    "\n",
    "E = len(clf.loss_curve_) \n",
    "ax1.plot(np.arange(E), clf.loss_curve_)\n",
    "\n",
    "ax1.legend([\"train_acc\", \"val_acc\"])\n",
    "\n",
    "ax2.set_ylabel(\"Loss\"), ax2.set_xlabel(\"Accuracy\")\n",
    "ax1.set_xlabel(\"Epochs\"), ax2.set_xlabel(\"Epochs\")\n",
    "ax2.legend([\"train_loss\", \"val_loss\"])\n"
   ]
  },
  {
   "cell_type": "code",
   "execution_count": null,
   "id": "87f43ad7",
   "metadata": {},
   "outputs": [],
   "source": [
    "a = clf.coefs_[1].flatten()\n",
    "n_bins = 30\n",
    "plt.hist(a, n_bins)"
   ]
  },
  {
   "cell_type": "code",
   "execution_count": null,
   "id": "39a3fa3d",
   "metadata": {},
   "outputs": [],
   "source": [
    "b = clf.coefs_[0]\n",
    "np.sum(b * b, axis=1)"
   ]
  },
  {
   "cell_type": "code",
   "execution_count": null,
   "id": "3bd6b3d9",
   "metadata": {},
   "outputs": [],
   "source": [
    "clf.score(data_test[3], t_test[0])"
   ]
  },
  {
   "cell_type": "code",
   "execution_count": null,
   "id": "3f6f2231",
   "metadata": {},
   "outputs": [],
   "source": [
    "# PREDICTION ON DATA SET to have mean\n",
    "flattened = data_test.reshape(-1, L*L)\n",
    "y = clf.predict_proba(flattened).reshape(10,-1, 2)"
   ]
  },
  {
   "cell_type": "code",
   "execution_count": null,
   "id": "c165e089",
   "metadata": {},
   "outputs": [],
   "source": [
    "y.shape"
   ]
  },
  {
   "cell_type": "code",
   "execution_count": null,
   "id": "1945bea3",
   "metadata": {},
   "outputs": [],
   "source": [
    "train_size = 10\n",
    "errors = y[:,:,1].std(axis=0, ddof=1) / np.sqrt(train_size)  # std/(N-1)\n",
    "plt.errorbar(temp_test[3], y[:,:,1].mean(axis=0), errors, fmt='s--g')\n",
    "\n",
    "plt.grid(True)"
   ]
  },
  {
   "cell_type": "code",
   "execution_count": null,
   "id": "7c7d0e34",
   "metadata": {},
   "outputs": [],
   "source": [
    "out = clf.predict_proba(data_val)\n",
    "plt.scatter(temp[a:], out[:,1], marker='x', c=clf.predict(data_val) )\n",
    "plt.vlines(T_CRIT, 0, 1)"
   ]
  }
 ],
 "metadata": {
  "kernelspec": {
   "display_name": "in3050",
   "language": "python",
   "name": "python3"
  },
  "language_info": {
   "codemirror_mode": {
    "name": "ipython",
    "version": 3
   },
   "file_extension": ".py",
   "mimetype": "text/x-python",
   "name": "python",
   "nbconvert_exporter": "python",
   "pygments_lexer": "ipython3",
   "version": "3.12.8"
  }
 },
 "nbformat": 4,
 "nbformat_minor": 5
}
